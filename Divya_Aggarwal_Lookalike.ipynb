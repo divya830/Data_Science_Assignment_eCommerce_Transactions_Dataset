{
  "nbformat": 4,
  "nbformat_minor": 0,
  "metadata": {
    "colab": {
      "provenance": []
    },
    "kernelspec": {
      "name": "python3",
      "display_name": "Python 3"
    },
    "language_info": {
      "name": "python"
    }
  },
  "cells": [
    {
      "cell_type": "code",
      "execution_count": 1,
      "metadata": {
        "id": "rwnU_ZNd_muO"
      },
      "outputs": [],
      "source": [
        "# Import necessary libraries\n",
        "import pandas as pd\n",
        "import numpy as np\n",
        "from sklearn.metrics.pairwise import cosine_similarity\n",
        "from sklearn.preprocessing import StandardScaler"
      ]
    },
    {
      "cell_type": "markdown",
      "source": [
        "Load the datasets"
      ],
      "metadata": {
        "id": "jhiqW7xYDOR-"
      }
    },
    {
      "cell_type": "code",
      "source": [
        "customers = pd.read_csv(\"Customers.csv\")\n",
        "products = pd.read_csv(\"Products.csv\")\n",
        "transactions = pd.read_csv(\"Transactions.csv\")"
      ],
      "metadata": {
        "id": "8-DYdvku_0i8"
      },
      "execution_count": 22,
      "outputs": []
    },
    {
      "cell_type": "markdown",
      "source": [
        "Convert dates to datetime format"
      ],
      "metadata": {
        "id": "_bK_QtFtDSzj"
      }
    },
    {
      "cell_type": "code",
      "source": [
        "customers[\"SignupDate\"] = pd.to_datetime(customers[\"SignupDate\"])\n",
        "transactions[\"TransactionDate\"] = pd.to_datetime(transactions[\"TransactionDate\"])"
      ],
      "metadata": {
        "id": "nKyqafxP_4wH"
      },
      "execution_count": 3,
      "outputs": []
    },
    {
      "cell_type": "code",
      "source": [
        "# Combine datasets into a single DataFrame\n",
        "data = transactions.merge(customers, on=\"CustomerID\").merge(products, on=\"ProductID\")"
      ],
      "metadata": {
        "id": "WNGWQR5E_7ve"
      },
      "execution_count": 4,
      "outputs": []
    },
    {
      "cell_type": "markdown",
      "source": [
        "Feature Engineering"
      ],
      "metadata": {
        "id": "4137dlWkDUpD"
      }
    },
    {
      "cell_type": "code",
      "source": [
        "# 1. Total transaction value per customer\n",
        "customer_total_value = data.groupby(\"CustomerID\")[\"TotalValue\"].sum().rename(\"TotalTransactionValue\")\n",
        "\n",
        "# 2. Average order value (AOV)\n",
        "customer_aov = data.groupby(\"CustomerID\")[\"TotalValue\"].mean().rename(\"AverageOrderValue\")\n",
        "\n",
        "# 3. Product preferences based on category\n",
        "customer_category_preference = data.pivot_table(\n",
        "    index=\"CustomerID\", columns=\"Category\", values=\"Quantity\", aggfunc=\"sum\", fill_value=0\n",
        ")\n",
        "\n",
        "# 4. Customer activity frequency (average days between purchases)\n",
        "customer_purchase_dates = data.groupby(\"CustomerID\")[\"TransactionDate\"].agg(list)\n",
        "customer_avg_days_between = customer_purchase_dates.apply(\n",
        "    lambda x: np.mean(np.diff(sorted(x))).days if len(x) > 1 else np.nan\n",
        ").rename(\"AvgDaysBetweenPurchases\")"
      ],
      "metadata": {
        "id": "3ChhfZ2Q_-mO"
      },
      "execution_count": 5,
      "outputs": []
    },
    {
      "cell_type": "markdown",
      "source": [
        "Combine all features into a single DataFrame"
      ],
      "metadata": {
        "id": "CXk5jAjADbKO"
      }
    },
    {
      "cell_type": "code",
      "source": [
        "features = pd.concat([customer_total_value, customer_aov, customer_category_preference, customer_avg_days_between], axis=1)"
      ],
      "metadata": {
        "id": "nq6qXmgeACAC"
      },
      "execution_count": 6,
      "outputs": []
    },
    {
      "cell_type": "code",
      "source": [
        "# Handle missing values (e.g., fill NaN with 0 for days between purchases)\n",
        "features.fillna(0, inplace=True)"
      ],
      "metadata": {
        "id": "r_rGd5cvAq2m"
      },
      "execution_count": 9,
      "outputs": []
    },
    {
      "cell_type": "code",
      "source": [
        "features.info()"
      ],
      "metadata": {
        "colab": {
          "base_uri": "https://localhost:8080/"
        },
        "id": "Xe6qW7WGA0M-",
        "outputId": "9a0a7ad0-3f76-4bc3-89d7-d2300cce0730"
      },
      "execution_count": 13,
      "outputs": [
        {
          "output_type": "stream",
          "name": "stdout",
          "text": [
            "<class 'pandas.core.frame.DataFrame'>\n",
            "Index: 199 entries, C0001 to C0200\n",
            "Data columns (total 7 columns):\n",
            " #   Column                   Non-Null Count  Dtype  \n",
            "---  ------                   --------------  -----  \n",
            " 0   TotalTransactionValue    199 non-null    float64\n",
            " 1   AverageOrderValue        199 non-null    float64\n",
            " 2   Books                    199 non-null    int64  \n",
            " 3   Clothing                 199 non-null    int64  \n",
            " 4   Electronics              199 non-null    int64  \n",
            " 5   Home Decor               199 non-null    int64  \n",
            " 6   AvgDaysBetweenPurchases  199 non-null    float64\n",
            "dtypes: float64(3), int64(4)\n",
            "memory usage: 20.5+ KB\n"
          ]
        }
      ]
    },
    {
      "cell_type": "code",
      "source": [
        "features.describe()"
      ],
      "metadata": {
        "colab": {
          "base_uri": "https://localhost:8080/",
          "height": 300
        },
        "id": "h89wAOdqA2nY",
        "outputId": "eae886c0-0dc8-443e-bc36-4bddd5af8212"
      },
      "execution_count": 14,
      "outputs": [
        {
          "output_type": "execute_result",
          "data": {
            "text/plain": [
              "       TotalTransactionValue  AverageOrderValue       Books    Clothing  \\\n",
              "count             199.000000         199.000000  199.000000  199.000000   \n",
              "mean             3467.314372         687.580182    3.422111    2.964824   \n",
              "std              1832.677958         237.936649    3.068694    3.083644   \n",
              "min                82.360000          82.360000    0.000000    0.000000   \n",
              "25%              2162.040000         542.941667    1.000000    0.000000   \n",
              "50%              3137.660000         677.207500    3.000000    3.000000   \n",
              "75%              4770.225000         828.624167    5.000000    4.000000   \n",
              "max             10673.870000        1323.133333   15.000000   15.000000   \n",
              "\n",
              "       Electronics  Home Decor  AvgDaysBetweenPurchases  \n",
              "count   199.000000  199.000000               199.000000  \n",
              "mean      3.150754    3.211055                62.402010  \n",
              "std       3.072752    3.064241                41.989287  \n",
              "min       0.000000    0.000000                 0.000000  \n",
              "25%       0.000000    0.000000                37.000000  \n",
              "50%       3.000000    3.000000                56.000000  \n",
              "75%       4.500000    5.000000                79.500000  \n",
              "max      14.000000   14.000000               295.000000  "
            ],
            "text/html": [
              "\n",
              "  <div id=\"df-441c288f-eb71-4c7b-a5b0-8189a8d80af7\" class=\"colab-df-container\">\n",
              "    <div>\n",
              "<style scoped>\n",
              "    .dataframe tbody tr th:only-of-type {\n",
              "        vertical-align: middle;\n",
              "    }\n",
              "\n",
              "    .dataframe tbody tr th {\n",
              "        vertical-align: top;\n",
              "    }\n",
              "\n",
              "    .dataframe thead th {\n",
              "        text-align: right;\n",
              "    }\n",
              "</style>\n",
              "<table border=\"1\" class=\"dataframe\">\n",
              "  <thead>\n",
              "    <tr style=\"text-align: right;\">\n",
              "      <th></th>\n",
              "      <th>TotalTransactionValue</th>\n",
              "      <th>AverageOrderValue</th>\n",
              "      <th>Books</th>\n",
              "      <th>Clothing</th>\n",
              "      <th>Electronics</th>\n",
              "      <th>Home Decor</th>\n",
              "      <th>AvgDaysBetweenPurchases</th>\n",
              "    </tr>\n",
              "  </thead>\n",
              "  <tbody>\n",
              "    <tr>\n",
              "      <th>count</th>\n",
              "      <td>199.000000</td>\n",
              "      <td>199.000000</td>\n",
              "      <td>199.000000</td>\n",
              "      <td>199.000000</td>\n",
              "      <td>199.000000</td>\n",
              "      <td>199.000000</td>\n",
              "      <td>199.000000</td>\n",
              "    </tr>\n",
              "    <tr>\n",
              "      <th>mean</th>\n",
              "      <td>3467.314372</td>\n",
              "      <td>687.580182</td>\n",
              "      <td>3.422111</td>\n",
              "      <td>2.964824</td>\n",
              "      <td>3.150754</td>\n",
              "      <td>3.211055</td>\n",
              "      <td>62.402010</td>\n",
              "    </tr>\n",
              "    <tr>\n",
              "      <th>std</th>\n",
              "      <td>1832.677958</td>\n",
              "      <td>237.936649</td>\n",
              "      <td>3.068694</td>\n",
              "      <td>3.083644</td>\n",
              "      <td>3.072752</td>\n",
              "      <td>3.064241</td>\n",
              "      <td>41.989287</td>\n",
              "    </tr>\n",
              "    <tr>\n",
              "      <th>min</th>\n",
              "      <td>82.360000</td>\n",
              "      <td>82.360000</td>\n",
              "      <td>0.000000</td>\n",
              "      <td>0.000000</td>\n",
              "      <td>0.000000</td>\n",
              "      <td>0.000000</td>\n",
              "      <td>0.000000</td>\n",
              "    </tr>\n",
              "    <tr>\n",
              "      <th>25%</th>\n",
              "      <td>2162.040000</td>\n",
              "      <td>542.941667</td>\n",
              "      <td>1.000000</td>\n",
              "      <td>0.000000</td>\n",
              "      <td>0.000000</td>\n",
              "      <td>0.000000</td>\n",
              "      <td>37.000000</td>\n",
              "    </tr>\n",
              "    <tr>\n",
              "      <th>50%</th>\n",
              "      <td>3137.660000</td>\n",
              "      <td>677.207500</td>\n",
              "      <td>3.000000</td>\n",
              "      <td>3.000000</td>\n",
              "      <td>3.000000</td>\n",
              "      <td>3.000000</td>\n",
              "      <td>56.000000</td>\n",
              "    </tr>\n",
              "    <tr>\n",
              "      <th>75%</th>\n",
              "      <td>4770.225000</td>\n",
              "      <td>828.624167</td>\n",
              "      <td>5.000000</td>\n",
              "      <td>4.000000</td>\n",
              "      <td>4.500000</td>\n",
              "      <td>5.000000</td>\n",
              "      <td>79.500000</td>\n",
              "    </tr>\n",
              "    <tr>\n",
              "      <th>max</th>\n",
              "      <td>10673.870000</td>\n",
              "      <td>1323.133333</td>\n",
              "      <td>15.000000</td>\n",
              "      <td>15.000000</td>\n",
              "      <td>14.000000</td>\n",
              "      <td>14.000000</td>\n",
              "      <td>295.000000</td>\n",
              "    </tr>\n",
              "  </tbody>\n",
              "</table>\n",
              "</div>\n",
              "    <div class=\"colab-df-buttons\">\n",
              "\n",
              "  <div class=\"colab-df-container\">\n",
              "    <button class=\"colab-df-convert\" onclick=\"convertToInteractive('df-441c288f-eb71-4c7b-a5b0-8189a8d80af7')\"\n",
              "            title=\"Convert this dataframe to an interactive table.\"\n",
              "            style=\"display:none;\">\n",
              "\n",
              "  <svg xmlns=\"http://www.w3.org/2000/svg\" height=\"24px\" viewBox=\"0 -960 960 960\">\n",
              "    <path d=\"M120-120v-720h720v720H120Zm60-500h600v-160H180v160Zm220 220h160v-160H400v160Zm0 220h160v-160H400v160ZM180-400h160v-160H180v160Zm440 0h160v-160H620v160ZM180-180h160v-160H180v160Zm440 0h160v-160H620v160Z\"/>\n",
              "  </svg>\n",
              "    </button>\n",
              "\n",
              "  <style>\n",
              "    .colab-df-container {\n",
              "      display:flex;\n",
              "      gap: 12px;\n",
              "    }\n",
              "\n",
              "    .colab-df-convert {\n",
              "      background-color: #E8F0FE;\n",
              "      border: none;\n",
              "      border-radius: 50%;\n",
              "      cursor: pointer;\n",
              "      display: none;\n",
              "      fill: #1967D2;\n",
              "      height: 32px;\n",
              "      padding: 0 0 0 0;\n",
              "      width: 32px;\n",
              "    }\n",
              "\n",
              "    .colab-df-convert:hover {\n",
              "      background-color: #E2EBFA;\n",
              "      box-shadow: 0px 1px 2px rgba(60, 64, 67, 0.3), 0px 1px 3px 1px rgba(60, 64, 67, 0.15);\n",
              "      fill: #174EA6;\n",
              "    }\n",
              "\n",
              "    .colab-df-buttons div {\n",
              "      margin-bottom: 4px;\n",
              "    }\n",
              "\n",
              "    [theme=dark] .colab-df-convert {\n",
              "      background-color: #3B4455;\n",
              "      fill: #D2E3FC;\n",
              "    }\n",
              "\n",
              "    [theme=dark] .colab-df-convert:hover {\n",
              "      background-color: #434B5C;\n",
              "      box-shadow: 0px 1px 3px 1px rgba(0, 0, 0, 0.15);\n",
              "      filter: drop-shadow(0px 1px 2px rgba(0, 0, 0, 0.3));\n",
              "      fill: #FFFFFF;\n",
              "    }\n",
              "  </style>\n",
              "\n",
              "    <script>\n",
              "      const buttonEl =\n",
              "        document.querySelector('#df-441c288f-eb71-4c7b-a5b0-8189a8d80af7 button.colab-df-convert');\n",
              "      buttonEl.style.display =\n",
              "        google.colab.kernel.accessAllowed ? 'block' : 'none';\n",
              "\n",
              "      async function convertToInteractive(key) {\n",
              "        const element = document.querySelector('#df-441c288f-eb71-4c7b-a5b0-8189a8d80af7');\n",
              "        const dataTable =\n",
              "          await google.colab.kernel.invokeFunction('convertToInteractive',\n",
              "                                                    [key], {});\n",
              "        if (!dataTable) return;\n",
              "\n",
              "        const docLinkHtml = 'Like what you see? Visit the ' +\n",
              "          '<a target=\"_blank\" href=https://colab.research.google.com/notebooks/data_table.ipynb>data table notebook</a>'\n",
              "          + ' to learn more about interactive tables.';\n",
              "        element.innerHTML = '';\n",
              "        dataTable['output_type'] = 'display_data';\n",
              "        await google.colab.output.renderOutput(dataTable, element);\n",
              "        const docLink = document.createElement('div');\n",
              "        docLink.innerHTML = docLinkHtml;\n",
              "        element.appendChild(docLink);\n",
              "      }\n",
              "    </script>\n",
              "  </div>\n",
              "\n",
              "\n",
              "<div id=\"df-828da8da-2e77-4ae7-83b9-1e9a83f67f12\">\n",
              "  <button class=\"colab-df-quickchart\" onclick=\"quickchart('df-828da8da-2e77-4ae7-83b9-1e9a83f67f12')\"\n",
              "            title=\"Suggest charts\"\n",
              "            style=\"display:none;\">\n",
              "\n",
              "<svg xmlns=\"http://www.w3.org/2000/svg\" height=\"24px\"viewBox=\"0 0 24 24\"\n",
              "     width=\"24px\">\n",
              "    <g>\n",
              "        <path d=\"M19 3H5c-1.1 0-2 .9-2 2v14c0 1.1.9 2 2 2h14c1.1 0 2-.9 2-2V5c0-1.1-.9-2-2-2zM9 17H7v-7h2v7zm4 0h-2V7h2v10zm4 0h-2v-4h2v4z\"/>\n",
              "    </g>\n",
              "</svg>\n",
              "  </button>\n",
              "\n",
              "<style>\n",
              "  .colab-df-quickchart {\n",
              "      --bg-color: #E8F0FE;\n",
              "      --fill-color: #1967D2;\n",
              "      --hover-bg-color: #E2EBFA;\n",
              "      --hover-fill-color: #174EA6;\n",
              "      --disabled-fill-color: #AAA;\n",
              "      --disabled-bg-color: #DDD;\n",
              "  }\n",
              "\n",
              "  [theme=dark] .colab-df-quickchart {\n",
              "      --bg-color: #3B4455;\n",
              "      --fill-color: #D2E3FC;\n",
              "      --hover-bg-color: #434B5C;\n",
              "      --hover-fill-color: #FFFFFF;\n",
              "      --disabled-bg-color: #3B4455;\n",
              "      --disabled-fill-color: #666;\n",
              "  }\n",
              "\n",
              "  .colab-df-quickchart {\n",
              "    background-color: var(--bg-color);\n",
              "    border: none;\n",
              "    border-radius: 50%;\n",
              "    cursor: pointer;\n",
              "    display: none;\n",
              "    fill: var(--fill-color);\n",
              "    height: 32px;\n",
              "    padding: 0;\n",
              "    width: 32px;\n",
              "  }\n",
              "\n",
              "  .colab-df-quickchart:hover {\n",
              "    background-color: var(--hover-bg-color);\n",
              "    box-shadow: 0 1px 2px rgba(60, 64, 67, 0.3), 0 1px 3px 1px rgba(60, 64, 67, 0.15);\n",
              "    fill: var(--button-hover-fill-color);\n",
              "  }\n",
              "\n",
              "  .colab-df-quickchart-complete:disabled,\n",
              "  .colab-df-quickchart-complete:disabled:hover {\n",
              "    background-color: var(--disabled-bg-color);\n",
              "    fill: var(--disabled-fill-color);\n",
              "    box-shadow: none;\n",
              "  }\n",
              "\n",
              "  .colab-df-spinner {\n",
              "    border: 2px solid var(--fill-color);\n",
              "    border-color: transparent;\n",
              "    border-bottom-color: var(--fill-color);\n",
              "    animation:\n",
              "      spin 1s steps(1) infinite;\n",
              "  }\n",
              "\n",
              "  @keyframes spin {\n",
              "    0% {\n",
              "      border-color: transparent;\n",
              "      border-bottom-color: var(--fill-color);\n",
              "      border-left-color: var(--fill-color);\n",
              "    }\n",
              "    20% {\n",
              "      border-color: transparent;\n",
              "      border-left-color: var(--fill-color);\n",
              "      border-top-color: var(--fill-color);\n",
              "    }\n",
              "    30% {\n",
              "      border-color: transparent;\n",
              "      border-left-color: var(--fill-color);\n",
              "      border-top-color: var(--fill-color);\n",
              "      border-right-color: var(--fill-color);\n",
              "    }\n",
              "    40% {\n",
              "      border-color: transparent;\n",
              "      border-right-color: var(--fill-color);\n",
              "      border-top-color: var(--fill-color);\n",
              "    }\n",
              "    60% {\n",
              "      border-color: transparent;\n",
              "      border-right-color: var(--fill-color);\n",
              "    }\n",
              "    80% {\n",
              "      border-color: transparent;\n",
              "      border-right-color: var(--fill-color);\n",
              "      border-bottom-color: var(--fill-color);\n",
              "    }\n",
              "    90% {\n",
              "      border-color: transparent;\n",
              "      border-bottom-color: var(--fill-color);\n",
              "    }\n",
              "  }\n",
              "</style>\n",
              "\n",
              "  <script>\n",
              "    async function quickchart(key) {\n",
              "      const quickchartButtonEl =\n",
              "        document.querySelector('#' + key + ' button');\n",
              "      quickchartButtonEl.disabled = true;  // To prevent multiple clicks.\n",
              "      quickchartButtonEl.classList.add('colab-df-spinner');\n",
              "      try {\n",
              "        const charts = await google.colab.kernel.invokeFunction(\n",
              "            'suggestCharts', [key], {});\n",
              "      } catch (error) {\n",
              "        console.error('Error during call to suggestCharts:', error);\n",
              "      }\n",
              "      quickchartButtonEl.classList.remove('colab-df-spinner');\n",
              "      quickchartButtonEl.classList.add('colab-df-quickchart-complete');\n",
              "    }\n",
              "    (() => {\n",
              "      let quickchartButtonEl =\n",
              "        document.querySelector('#df-828da8da-2e77-4ae7-83b9-1e9a83f67f12 button');\n",
              "      quickchartButtonEl.style.display =\n",
              "        google.colab.kernel.accessAllowed ? 'block' : 'none';\n",
              "    })();\n",
              "  </script>\n",
              "</div>\n",
              "\n",
              "    </div>\n",
              "  </div>\n"
            ],
            "application/vnd.google.colaboratory.intrinsic+json": {
              "type": "dataframe",
              "summary": "{\n  \"name\": \"features\",\n  \"rows\": 8,\n  \"fields\": [\n    {\n      \"column\": \"TotalTransactionValue\",\n      \"properties\": {\n        \"dtype\": \"number\",\n        \"std\": 3380.755694090695,\n        \"min\": 82.36,\n        \"max\": 10673.869999999999,\n        \"num_unique_values\": 8,\n        \"samples\": [\n          3467.314371859297,\n          3137.66,\n          199.0\n        ],\n        \"semantic_type\": \"\",\n        \"description\": \"\"\n      }\n    },\n    {\n      \"column\": \"AverageOrderValue\",\n      \"properties\": {\n        \"dtype\": \"number\",\n        \"std\": 404.5813911546696,\n        \"min\": 82.36,\n        \"max\": 1323.1333333333332,\n        \"num_unique_values\": 8,\n        \"samples\": [\n          687.5801821245477,\n          677.2075,\n          199.0\n        ],\n        \"semantic_type\": \"\",\n        \"description\": \"\"\n      }\n    },\n    {\n      \"column\": \"Books\",\n      \"properties\": {\n        \"dtype\": \"number\",\n        \"std\": 68.97087797000431,\n        \"min\": 0.0,\n        \"max\": 199.0,\n        \"num_unique_values\": 8,\n        \"samples\": [\n          3.422110552763819,\n          3.0,\n          199.0\n        ],\n        \"semantic_type\": \"\",\n        \"description\": \"\"\n      }\n    },\n    {\n      \"column\": \"Clothing\",\n      \"properties\": {\n        \"dtype\": \"number\",\n        \"std\": 69.101812263489,\n        \"min\": 0.0,\n        \"max\": 199.0,\n        \"num_unique_values\": 7,\n        \"samples\": [\n          199.0,\n          2.9648241206030153,\n          4.0\n        ],\n        \"semantic_type\": \"\",\n        \"description\": \"\"\n      }\n    },\n    {\n      \"column\": \"Electronics\",\n      \"properties\": {\n        \"dtype\": \"number\",\n        \"std\": 69.09638769199118,\n        \"min\": 0.0,\n        \"max\": 199.0,\n        \"num_unique_values\": 7,\n        \"samples\": [\n          199.0,\n          3.150753768844221,\n          4.5\n        ],\n        \"semantic_type\": \"\",\n        \"description\": \"\"\n      }\n    },\n    {\n      \"column\": \"Home Decor\",\n      \"properties\": {\n        \"dtype\": \"number\",\n        \"std\": 69.06926430512014,\n        \"min\": 0.0,\n        \"max\": 199.0,\n        \"num_unique_values\": 7,\n        \"samples\": [\n          199.0,\n          3.2110552763819094,\n          5.0\n        ],\n        \"semantic_type\": \"\",\n        \"description\": \"\"\n      }\n    },\n    {\n      \"column\": \"AvgDaysBetweenPurchases\",\n      \"properties\": {\n        \"dtype\": \"number\",\n        \"std\": 99.15657685105037,\n        \"min\": 0.0,\n        \"max\": 295.0,\n        \"num_unique_values\": 8,\n        \"samples\": [\n          62.402010050251256,\n          56.0,\n          199.0\n        ],\n        \"semantic_type\": \"\",\n        \"description\": \"\"\n      }\n    }\n  ]\n}"
            }
          },
          "metadata": {},
          "execution_count": 14
        }
      ]
    },
    {
      "cell_type": "code",
      "source": [
        "# Standardize the features for similarity calculation\n",
        "scaler = StandardScaler()\n",
        "features_scaled = scaler.fit_transform(features)"
      ],
      "metadata": {
        "id": "--ThalyAAFyP"
      },
      "execution_count": 10,
      "outputs": []
    },
    {
      "cell_type": "markdown",
      "source": [
        "Calculate pairwise cosine similarity"
      ],
      "metadata": {
        "id": "g902Kx-6DeHs"
      }
    },
    {
      "cell_type": "code",
      "source": [
        "similarity_matrix = cosine_similarity(features_scaled)\n",
        "similarity_matrix"
      ],
      "metadata": {
        "colab": {
          "base_uri": "https://localhost:8080/"
        },
        "id": "xYOToP0xAIVX",
        "outputId": "a514ed91-642e-4c10-a178-1ff09e5fab48"
      },
      "execution_count": 12,
      "outputs": [
        {
          "output_type": "execute_result",
          "data": {
            "text/plain": [
              "array([[ 1.        , -0.2261447 ,  0.19356658, ..., -0.03250585,\n",
              "         0.31855736, -0.71427799],\n",
              "       [-0.2261447 ,  1.        ,  0.6299443 , ...,  0.31646807,\n",
              "         0.49314288, -0.12392431],\n",
              "       [ 0.19356658,  0.6299443 ,  1.        , ...,  0.13734155,\n",
              "         0.59004509, -0.01361518],\n",
              "       ...,\n",
              "       [-0.03250585,  0.31646807,  0.13734155, ...,  1.        ,\n",
              "         0.60329767, -0.39673553],\n",
              "       [ 0.31855736,  0.49314288,  0.59004509, ...,  0.60329767,\n",
              "         1.        , -0.55068698],\n",
              "       [-0.71427799, -0.12392431, -0.01361518, ..., -0.39673553,\n",
              "        -0.55068698,  1.        ]])"
            ]
          },
          "metadata": {},
          "execution_count": 12
        }
      ]
    },
    {
      "cell_type": "markdown",
      "source": [
        "function to find top 3 lookalike customers"
      ],
      "metadata": {
        "id": "pbf_riugDgv8"
      }
    },
    {
      "cell_type": "code",
      "source": [
        "# Create a function to find top 3 lookalike customers\n",
        "def get_top_lookalikes(customer_id, similarity_matrix, customer_ids, top_n=3):\n",
        "    customer_index = customer_ids.index(customer_id)\n",
        "    similarity_scores = similarity_matrix[customer_index]\n",
        "    # Exclude the customer itself and sort by similarity\n",
        "    lookalike_indices = np.argsort(similarity_scores)[::-1][1 : top_n + 1]\n",
        "    return [(customer_ids[idx], similarity_scores[idx]) for idx in lookalike_indices]"
      ],
      "metadata": {
        "id": "B4djlznGAKqv"
      },
      "execution_count": 15,
      "outputs": []
    },
    {
      "cell_type": "code",
      "source": [
        "# Get lookalike data for customers C0001 to C0020\n",
        "customer_ids = features.index.tolist()\n",
        "lookalike_data = {}\n",
        "\n",
        "# Correctly format customer IDs with leading zeros\n",
        "for cust_id in customer_ids:\n",
        "    if cust_id in [f\"C{str(i).zfill(4)}\" for i in range(1, 21)]:\n",
        "        lookalike_data[cust_id] = get_top_lookalikes(cust_id, similarity_matrix, customer_ids)\n",
        "\n",
        "# Convert lookalike data to a DataFrame\n",
        "lookalike_df = pd.DataFrame(\n",
        "    [{\"cust_id\": cust, \"lookalikes\": lookalikes} for cust, lookalikes in lookalike_data.items()]\n",
        ")\n",
        "\n",
        "# Save to CSV\n",
        "lookalike_df.to_csv(\"Lookalike.csv\", index=False)\n",
        "\n",
        "print(\"Lookalike model complete. Results saved to 'Lookalike.csv'.\")"
      ],
      "metadata": {
        "colab": {
          "base_uri": "https://localhost:8080/"
        },
        "id": "IJD5qxLUC6-q",
        "outputId": "063b0a43-ad41-42a2-80db-e1c5b2f6f108"
      },
      "execution_count": 21,
      "outputs": [
        {
          "output_type": "stream",
          "name": "stdout",
          "text": [
            "Lookalike model complete. Results saved to 'Lookalike.csv'.\n"
          ]
        }
      ]
    }
  ]
}